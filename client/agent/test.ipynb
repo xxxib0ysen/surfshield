{
 "cells": [
  {
   "cell_type": "code",
   "id": "initial_id",
   "metadata": {
    "collapsed": true,
    "ExecuteTime": {
     "end_time": "2025-04-14T23:40:03.218516Z",
     "start_time": "2025-04-14T23:39:56.021134Z"
    }
   },
   "source": [
    "import subprocess\n",
    "import winreg\n",
    "\n",
    "def get_device_id():\n",
    "    try:\n",
    "        key = winreg.OpenKey(\n",
    "            winreg.HKEY_LOCAL_MACHINE,\n",
    "            r\"SOFTWARE\\Microsoft\\Cryptography\"\n",
    "        )\n",
    "        value, _ = winreg.QueryValueEx(key, \"MachineGuid\")\n",
    "        return value\n",
    "    except Exception as e:\n",
    "        print(f\"获取设备 ID 失败: {e}\")\n",
    "        return None\n",
    "def get_os_name():\n",
    "    try:\n",
    "        output = subprocess.check_output(\"systeminfo\", shell=True, encoding=\"gbk\", errors=\"ignore\")\n",
    "        for line in output.splitlines():\n",
    "            if \"OS 名称\" in line or \"OS Name\" in line:\n",
    "                return line.split(\":\", 1)[1].strip()\n",
    "    except Exception as e:\n",
    "        print(f\"获取操作系统名称失败: {e}\")\n",
    "    return \"未知操作系统\"\n",
    "# 示例调用\n",
    "device_id = get_device_id()\n",
    "os_name = get_os_name()\n",
    "print(\"设备 ID:\", device_id)\n",
    "print(\"操作系统名称:\", os_name)\n"
   ],
   "outputs": [
    {
     "name": "stdout",
     "output_type": "stream",
     "text": [
      "设备 ID: e84e54cc-c42e-486f-91c0-1ff1388aab64\n",
      "操作系统名称: Microsoft Windows 11 专业版\n"
     ]
    }
   ],
   "execution_count": 2
  }
 ],
 "metadata": {
  "kernelspec": {
   "display_name": "Python 3",
   "language": "python",
   "name": "python3"
  },
  "language_info": {
   "codemirror_mode": {
    "name": "ipython",
    "version": 2
   },
   "file_extension": ".py",
   "mimetype": "text/x-python",
   "name": "python",
   "nbconvert_exporter": "python",
   "pygments_lexer": "ipython2",
   "version": "2.7.6"
  }
 },
 "nbformat": 4,
 "nbformat_minor": 5
}
